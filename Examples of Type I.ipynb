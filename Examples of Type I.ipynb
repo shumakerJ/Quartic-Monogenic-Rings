{
 "cells": [
  {
   "cell_type": "code",
   "execution_count": 10,
   "id": "b766779a",
   "metadata": {},
   "outputs": [],
   "source": [
    "#This notebook is used to find examples of type I monogenic orders from a given polynomal\n",
    "#code was written for SageMath 9.7\n",
    "\n",
    "\n"
   ]
  },
  {
   "cell_type": "code",
   "execution_count": 100,
   "id": "9ebccfb3",
   "metadata": {},
   "outputs": [],
   "source": [
    "import random\n",
    "\n",
    "A= ZZ['t']\n",
    "t=A.gen()\n",
    "# t is needed to use some sageMath function, partiular the is_irreducable() function.\n",
    "R.<T, S> = PolynomialRing(QQ)\n",
    "#This ring is needed when solving thue equations\n",
    "\n",
    "#For now this has a dictinary will every irreducable poly, in the selected range. Later This will hopefully involve some spl, ideas\n",
    "# the key C returns an array of the coefficent check so far.\n",
    "\n",
    "\n",
    "def solvethue(f,n):\n",
    "    return gp.thue(f, n).sage()\n",
    "#This function will find all integral solution to a thue equaiton, it call the thue solver in Pair/gp\n",
    "\n",
    "\n",
    "\n",
    "def random_no_dups(n, k):\n",
    "    irr_polys={}\n",
    "    saved=0\n",
    "    while saved< k: \n",
    "        rand_coeff=[1,random.randint(-n,n ), random.randint(-n, n), random.randint(-n, n), random.randint(-n, n)]\n",
    "        p=poly('p'+'_'+str(rand_coeff[1])+'_'+str(rand_coeff[2])+'_'+str(rand_coeff[3])+'_'+str(rand_coeff[4]),rand_coeff )\n",
    "        if p.name not in irr_polys.keys():\n",
    "            f_p=p.make(p.coeff)\n",
    "            if f_p.is_irreducible():\n",
    "                irr_polys[p.name]= p\n",
    "                saved=saved+1\n",
    "    return('random polys found')\n",
    "\n",
    "# this function will do a random search for and produce a collection of k polys\n",
    "# these collection can then be fed into a procces to check what type of order they define.\n",
    "# This function will make k, randome polys with coefficent in range n"
   ]
  },
  {
   "cell_type": "code",
   "execution_count": 94,
   "id": "198deb37",
   "metadata": {},
   "outputs": [],
   "source": [
    "class poly:\n",
    "    def __init__(self, name, coeff ):\n",
    "        self.name= name\n",
    "        self.test_1= False\n",
    "        # the naming convention is P_#_#_#_# where the number are the non-leading coefficents\n",
    "        self.coeff = coeff \n",
    "        # an array that recorred the coefficents of the poly,\n",
    "        # we choose to have 5 entreis even thought the first is alwasy 1, \n",
    "        #to make recalling coefficents index match mathmatical labaling\n",
    "        self.disc = self.make(self.coeff).discriminant()\n",
    "        self.cubic_res= [1,-coeff[2], coeff[1]*coeff[3] - 4*coeff[4], -coeff[3]^2+coeff[1]^2*coeff[4]]\n",
    "        self.solu_coords=[]\n",
    "        #Recored the solutions and coordinits for type I monogens\n",
    "        self.typeI_number=0\n",
    " \n",
    "    def make(self, coeff_list):\n",
    "        #converts a list coeff to a univariable polynomial for opperation in sage\n",
    "        L=len(coeff_list)\n",
    "        f= sum((coeff_list[i])* t**(L-1-i) for i in range(L))\n",
    "        return(f)\n",
    "    \n",
    "    def make_form(self, coeff_list):\n",
    "        #converts a list of coeff to a binary form\n",
    "        L=len(coeff_list)\n",
    "        F= sum(coeff_list[i]* (S**i)*(T**(L-1-i)) for i in range(L))\n",
    "        return(F)\n",
    "    \n",
    "    def typeI_solver(self):\n",
    "        #this methode find the monogenization which are type I to the gen defined by the poly\n",
    "        #this does not find all type I relation amoung monogenization of a ring\n",
    "        if self.test_1== False:\n",
    "            self.test_1=True\n",
    "            L=len(self.coeff)\n",
    "            f= sum((self.coeff[i])* T**(L-1-i) for i in range(L))\n",
    "            S=solvethue(f,1)+ solvethue(f,-1)\n",
    "            self.typeI_number=len(S)/2\n",
    "            for s in S:\n",
    "                t_1=s[0]\n",
    "                t_2=s[1]\n",
    "                c = (t_1**2 + self.coeff[1]*t_1*t_2+ self.coeff[2]*t_2**2, t_1*t_2+ self.coeff[1]*t_2**2, t_2**2)\n",
    "                self.solu_coords.append([s,c])\n",
    "            \n",
    "   "
   ]
  },
  {
   "cell_type": "code",
   "execution_count": 74,
   "id": "334afbde",
   "metadata": {},
   "outputs": [],
   "source": [
    "# this function will do a random search for produce a collection of k polys\n",
    "# these collection can then be fed into a procces to check for type I orders\n",
    "# This function will make k, randome polys with coefficent in range n\n",
    "\n",
    "def random_no_dups(n, k):\n",
    "    irr_polys={}\n",
    "    saved=0\n",
    "    while saved< k: \n",
    "        rand_coeff=[1,random.randint(-n,n ), random.randint(-n, n), random.randint(-n, n), random.randint(-n, n)]\n",
    "        p=poly('p'+'_'+str(rand_coeff[1])+'_'+str(rand_coeff[2])+'_'+str(rand_coeff[3])+'_'+str(rand_coeff[4]),rand_coeff )\n",
    "        if p.name not in irr_polys.keys():\n",
    "            f_p=p.make(p.coeff)\n",
    "            if f_p.is_irreducible():\n",
    "                irr_polys[p.name]= p\n",
    "                saved=saved+1\n",
    "    return('done')"
   ]
  },
  {
   "cell_type": "code",
   "execution_count": 115,
   "id": "ee0f2ea6",
   "metadata": {},
   "outputs": [
    {
     "name": "stdout",
     "output_type": "stream",
     "text": [
      "[t^4 + 8*t^3 - 68*t^2 + 53*t + 7, 3747127637, 2]\n",
      "[[[-1, -1], (-59, 9, 1)], [[-1, 0], (1, 0, 0)], [[1, 0], (1, 0, 0)], [[1, 1], (-59, 9, 1)]]\n",
      "this is 1\n",
      "[t^4 - 35*t^3 + 31*t^2 + 52*t + 35, -62124240383, 2]\n",
      "[[[-1, 0], (1, 0, 0)], [[1, 0], (1, 0, 0)], [[-2, -1], (-35, -33, 1)], [[2, 1], (-35, -33, 1)]]\n",
      "this is 2\n",
      "[t^4 + 77*t^3 - 57*t^2 - 27*t - 1, 33353306141, 2]\n",
      "[[[-1, 0], (1, 0, 0)], [[1, 0], (1, 0, 0)], [[0, -1], (-57, 77, 1)], [[0, 1], (-57, 77, 1)]]\n",
      "this is 3\n",
      "[t^4 - 48*t^3 + 68*t^2 + 54*t - 64, 163234623824, 2]\n",
      "[[[-1, 0], (1, 0, 0)], [[1, 0], (1, 0, 0)], [[-1, 1], (117, -49, 1)], [[1, -1], (117, -49, 1)]]\n",
      "this is 4\n",
      "[t^4 - 17*t^3 - 62*t^2 + 43*t + 88, 50646476489, 2]\n",
      "[[[-1, 0], (1, 0, 0)], [[-1, 1], (-44, -18, 1)], [[1, -1], (-44, -18, 1)], [[1, 0], (1, 0, 0)]]\n",
      "this is 5\n",
      "[t^4 - 73*t^3 + 73*t^2 - 93*t + 1, -908432332075, 2]\n",
      "[[[-1, 0], (1, 0, 0)], [[0, -1], (73, -73, 1)], [[0, 1], (73, -73, 1)], [[1, 0], (1, 0, 0)]]\n",
      "this is 6\n"
     ]
    }
   ],
   "source": [
    "count=0\n",
    "random_no_dups(100,200)\n",
    "for I in irr_polys.keys():\n",
    "    p=irr_polys[I]\n",
    "    p.typeI_solver()\n",
    "    if p.typeI_number>1 and count<6:\n",
    "        count=count+1\n",
    "        line=[p.make(p.coeff), p.disc, p.typeI_number]\n",
    "        print(line)\n",
    "        print(p.solu_coords)\n",
    "        print('this is ' + str(count))\n",
    "\n"
   ]
  },
  {
   "cell_type": "code",
   "execution_count": 112,
   "id": "a955dccb",
   "metadata": {
    "scrolled": true
   },
   "outputs": [
    {
     "name": "stdout",
     "output_type": "stream",
     "text": [
      "dict_keys(['p_44_-72_-23_52', 'p_2_-81_-84_57', 'p_59_-34_-96_-23', 'p_8_-68_53_7', 'p_-6_-36_-35_-86', 'p_35_41_65_33', 'p_-87_72_69_-26', 'p_12_4_-97_30', 'p_-77_-94_64_-51', 'p_49_39_-34_49', 'p_-71_-88_51_-36', 'p_66_16_-47_-48', 'p_-48_-33_43_54', 'p_45_-23_-81_-100', 'p_10_60_-36_-11', 'p_97_-18_73_-32', 'p_-40_78_4_-27', 'p_-12_-61_-83_-2', 'p_-33_-95_61_-53', 'p_-35_31_52_35', 'p_-13_2_-84_23', 'p_43_85_-88_-45', 'p_2_52_-16_62', 'p_-74_-17_58_88', 'p_-78_-56_94_36', 'p_23_48_30_74', 'p_67_24_99_73', 'p_18_26_-55_-88', 'p_76_-26_63_-41', 'p_28_29_-34_64', 'p_-96_65_-95_-40', 'p_98_-22_81_-28', 'p_-22_73_92_46', 'p_-39_-75_35_-38', 'p_60_-85_8_78', 'p_-3_16_12_36', 'p_93_-78_64_67', 'p_-32_55_-80_-97', 'p_0_-89_-12_-30', 'p_49_68_54_-51', 'p_75_71_40_-17', 'p_90_-61_37_100', 'p_-85_-46_27_-47', 'p_-38_-88_-37_16', 'p_-52_-65_44_54', 'p_27_3_39_-75', 'p_78_-83_25_-76', 'p_-34_68_66_9', 'p_84_-29_-17_55', 'p_61_-63_-26_-66', 'p_31_71_-26_70', 'p_57_93_100_-72', 'p_22_49_-22_-43', 'p_45_-40_91_-74', 'p_91_-53_-7_18', 'p_-90_52_-97_-20', 'p_21_66_25_-7', 'p_87_-52_-99_-90', 'p_52_15_57_-95', 'p_5_30_-22_-31', 'p_50_-5_-74_-2', 'p_-60_34_-83_-84', 'p_-27_-62_77_69', 'p_20_73_86_-50', 'p_-62_-10_94_-68', 'p_-36_43_23_-15', 'p_-85_-87_-12_92', 'p_-10_48_98_-61', 'p_9_73_47_-16', 'p_17_49_8_-84', 'p_-27_45_30_79', 'p_77_-57_-27_-1', 'p_4_62_-73_77', 'p_-23_-1_49_-88', 'p_23_85_-18_72', 'p_74_14_9_50', 'p_12_-65_-60_87', 'p_9_-83_87_-84', 'p_-17_52_65_60', 'p_-48_68_54_-64', 'p_-46_-62_-53_52', 'p_-72_4_-33_94', 'p_69_66_-47_-19', 'p_36_-92_-77_89', 'p_88_-4_-27_-85', 'p_50_0_99_43', 'p_46_17_24_-97', 'p_5_22_-64_19', 'p_67_64_-51_-75', 'p_84_-29_98_29', 'p_59_94_-9_44', 'p_31_12_-36_-4', 'p_90_-13_87_-46', 'p_65_-4_-7_-74', 'p_77_14_59_-3', 'p_9_8_96_-89', 'p_-69_0_79_46', 'p_91_-26_96_-20', 'p_40_-68_4_6', 'p_49_74_90_35', 'p_-93_29_90_-83', 'p_59_-87_21_-71', 'p_8_47_-20_-63', 'p_40_52_-62_75', 'p_-33_100_79_91', 'p_29_-81_54_36', 'p_78_74_51_-53', 'p_-95_-66_-71_-12', 'p_56_45_62_3', 'p_-80_-37_-22_-100'])\n"
     ]
    }
   ],
   "source": [
    "print(irr_polys.keys())"
   ]
  }
 ],
 "metadata": {
  "kernelspec": {
   "display_name": "SageMath 9.7",
   "language": "sage",
   "name": "sagemath"
  },
  "language_info": {
   "codemirror_mode": {
    "name": "ipython",
    "version": 3
   },
   "file_extension": ".py",
   "mimetype": "text/x-python",
   "name": "python",
   "nbconvert_exporter": "python",
   "pygments_lexer": "ipython3",
   "version": "3.10.5"
  }
 },
 "nbformat": 4,
 "nbformat_minor": 5
}
